{
 "cells": [
  {
   "cell_type": "markdown",
   "metadata": {},
   "source": [
    "# Collaboration and Competition\n",
    "\n",
    "---\n",
    "\n",
    "In this notebook, you will learn how to use the Unity ML-Agents environment for the third project of the [Deep Reinforcement Learning Nanodegree](https://www.udacity.com/course/deep-reinforcement-learning-nanodegree--nd893) program.\n",
    "\n",
    "### 1. Start the Environment\n",
    "\n",
    "We begin by importing the necessary packages.  If the code cell below returns an error, please revisit the project instructions to double-check that you have installed [Unity ML-Agents](https://github.com/Unity-Technologies/ml-agents/blob/master/docs/Installation.md) and [NumPy](http://www.numpy.org/)."
   ]
  },
  {
   "cell_type": "code",
   "execution_count": 1,
   "metadata": {
    "ExecuteTime": {
     "end_time": "2020-06-16T16:01:32.323770Z",
     "start_time": "2020-06-16T16:01:32.156683Z"
    }
   },
   "outputs": [],
   "source": [
    "from unityagents import UnityEnvironment\n",
    "import numpy as np"
   ]
  },
  {
   "cell_type": "markdown",
   "metadata": {},
   "source": [
    "Next, we will start the environment!  **_Before running the code cell below_**, change the `file_name` parameter to match the location of the Unity environment that you downloaded.\n",
    "\n",
    "- **Mac**: `\"path/to/Tennis.app\"`\n",
    "- **Windows** (x86): `\"path/to/Tennis_Windows_x86/Tennis.exe\"`\n",
    "- **Windows** (x86_64): `\"path/to/Tennis_Windows_x86_64/Tennis.exe\"`\n",
    "- **Linux** (x86): `\"path/to/Tennis_Linux/Tennis.x86\"`\n",
    "- **Linux** (x86_64): `\"path/to/Tennis_Linux/Tennis.x86_64\"`\n",
    "- **Linux** (x86, headless): `\"path/to/Tennis_Linux_NoVis/Tennis.x86\"`\n",
    "- **Linux** (x86_64, headless): `\"path/to/Tennis_Linux_NoVis/Tennis.x86_64\"`\n",
    "\n",
    "For instance, if you are using a Mac, then you downloaded `Tennis.app`.  If this file is in the same folder as the notebook, then the line below should appear as follows:\n",
    "```\n",
    "env = UnityEnvironment(file_name=\"Tennis.app\")\n",
    "```"
   ]
  },
  {
   "cell_type": "code",
   "execution_count": 2,
   "metadata": {
    "ExecuteTime": {
     "end_time": "2020-06-16T01:35:31.514558Z",
     "start_time": "2020-06-16T01:35:31.229438Z"
    }
   },
   "outputs": [
    {
     "name": "stderr",
     "output_type": "stream",
     "text": [
      "INFO:unityagents:\n",
      "'Academy' started successfully!\n",
      "Unity Academy name: Academy\n",
      "        Number of Brains: 1\n",
      "        Number of External Brains : 1\n",
      "        Lesson number : 0\n",
      "        Reset Parameters :\n",
      "\t\t\n",
      "Unity brain name: TennisBrain\n",
      "        Number of Visual Observations (per agent): 0\n",
      "        Vector Observation space type: continuous\n",
      "        Vector Observation space size (per agent): 8\n",
      "        Number of stacked Vector Observation: 3\n",
      "        Vector Action space type: continuous\n",
      "        Vector Action space size (per agent): 2\n",
      "        Vector Action descriptions: , \n"
     ]
    }
   ],
   "source": [
    "env = UnityEnvironment(file_name=\"Tennis_Linux_NoVis/Tennis.x86_64\")"
   ]
  },
  {
   "cell_type": "markdown",
   "metadata": {},
   "source": [
    "Environments contain **_brains_** which are responsible for deciding the actions of their associated agents. Here we check for the first brain available, and set it as the default brain we will be controlling from Python."
   ]
  },
  {
   "cell_type": "code",
   "execution_count": 3,
   "metadata": {
    "ExecuteTime": {
     "end_time": "2020-06-16T01:35:31.517808Z",
     "start_time": "2020-06-16T01:35:31.515816Z"
    }
   },
   "outputs": [],
   "source": [
    "# get the default brain\n",
    "brain_name = env.brain_names[0]\n",
    "brain = env.brains[brain_name]"
   ]
  },
  {
   "cell_type": "markdown",
   "metadata": {},
   "source": [
    "### 2. Examine the State and Action Spaces\n",
    "\n",
    "In this environment, two agents control rackets to bounce a ball over a net. If an agent hits the ball over the net, it receives a reward of +0.1.  If an agent lets a ball hit the ground or hits the ball out of bounds, it receives a reward of -0.01.  Thus, the goal of each agent is to keep the ball in play.\n",
    "\n",
    "The observation space consists of 8 variables corresponding to the position and velocity of the ball and racket. Two continuous actions are available, corresponding to movement toward (or away from) the net, and jumping. \n",
    "\n",
    "Run the code cell below to print some information about the environment."
   ]
  },
  {
   "cell_type": "code",
   "execution_count": 4,
   "metadata": {
    "ExecuteTime": {
     "end_time": "2020-06-16T01:35:31.593202Z",
     "start_time": "2020-06-16T01:35:31.518855Z"
    }
   },
   "outputs": [
    {
     "name": "stdout",
     "output_type": "stream",
     "text": [
      "Number of agents: 2\n",
      "Size of each action: 2\n",
      "There are 2 agents. Each observes a state with length: 24\n",
      "The state for the first agent looks like: [ 0.          0.          0.          0.          0.          0.\n",
      "  0.          0.          0.          0.          0.          0.\n",
      "  0.          0.          0.          0.         -6.65278625 -1.5\n",
      " -0.          0.          6.83172083  6.         -0.          0.        ]\n"
     ]
    }
   ],
   "source": [
    "# reset the environment\n",
    "env_info = env.reset(train_mode=True)[brain_name]\n",
    "\n",
    "# number of agents \n",
    "num_agents = len(env_info.agents)\n",
    "print('Number of agents:', num_agents)\n",
    "\n",
    "# size of each action\n",
    "action_size = brain.vector_action_space_size\n",
    "print('Size of each action:', action_size)\n",
    "\n",
    "# examine the state space \n",
    "states = env_info.vector_observations\n",
    "state_size = states.shape[1]\n",
    "print('There are {} agents. Each observes a state with length: {}'.format(states.shape[0], state_size))\n",
    "print('The state for the first agent looks like:', states[0])"
   ]
  },
  {
   "cell_type": "markdown",
   "metadata": {},
   "source": [
    "### 3. Take Random Actions in the Environment\n",
    "\n",
    "In the next code cell, you will learn how to use the Python API to control the agents and receive feedback from the environment.\n",
    "\n",
    "Once this cell is executed, you will watch the agents' performance, if they select actions at random with each time step.  A window should pop up that allows you to observe the agents.\n",
    "\n",
    "Of course, as part of the project, you'll have to change the code so that the agents are able to use their experiences to gradually choose better actions when interacting with the environment!"
   ]
  },
  {
   "cell_type": "raw",
   "metadata": {
    "ExecuteTime": {
     "end_time": "2020-06-15T14:23:15.433415Z",
     "start_time": "2020-06-15T14:23:05.962775Z"
    }
   },
   "source": [
    "for i in range(1, 6):                                      # play game for 5 episodes\n",
    "    env_info = env.reset(train_mode=False)[brain_name]     # reset the environment    \n",
    "    states = env_info.vector_observations                  # get the current state (for each agent)\n",
    "    scores = np.zeros(num_agents)                          # initialize the score (for each agent)\n",
    "    while True:\n",
    "        actions = np.random.randn(num_agents, action_size) # select an action (for each agent)\n",
    "        actions = np.clip(actions, -1, 1)                  # all actions between -1 and 1\n",
    "        env_info = env.step(actions)[brain_name]           # send all actions to tne environment\n",
    "        next_states = env_info.vector_observations         # get next state (for each agent)\n",
    "        rewards = env_info.rewards                         # get reward (for each agent)\n",
    "        dones = env_info.local_done                        # see if episode finished\n",
    "        scores += env_info.rewards                         # update the score (for each agent)\n",
    "        states = next_states                               # roll over states to next time step\n",
    "        if np.any(dones):                                  # exit loop if episode finished\n",
    "            break\n",
    "    print('Score (max over agents) from episode {}: {}'.format(i, np.max(scores)))"
   ]
  },
  {
   "cell_type": "markdown",
   "metadata": {},
   "source": [
    "When finished, you can close the environment."
   ]
  },
  {
   "cell_type": "markdown",
   "metadata": {
    "ExecuteTime": {
     "end_time": "2020-06-15T14:23:15.436731Z",
     "start_time": "2020-06-15T14:23:15.434402Z"
    }
   },
   "source": [
    "env.close()"
   ]
  },
  {
   "cell_type": "markdown",
   "metadata": {},
   "source": [
    "## Train your own agent"
   ]
  },
  {
   "cell_type": "code",
   "execution_count": 2,
   "metadata": {
    "ExecuteTime": {
     "end_time": "2020-06-16T16:01:37.623265Z",
     "start_time": "2020-06-16T16:01:37.265820Z"
    }
   },
   "outputs": [],
   "source": [
    "import gym\n",
    "import random\n",
    "import torch\n",
    "import numpy as np\n",
    "from collections import deque\n",
    "import matplotlib.pyplot as plt\n",
    "%matplotlib inline\n",
    "\n",
    "import time\n",
    "from maddpg_agent import Agent"
   ]
  },
  {
   "cell_type": "code",
   "execution_count": 6,
   "metadata": {
    "ExecuteTime": {
     "end_time": "2020-06-16T01:35:33.633595Z",
     "start_time": "2020-06-16T01:35:31.952315Z"
    }
   },
   "outputs": [],
   "source": [
    "# initialize agents\n",
    "agent_0 = Agent(state_size, action_size, random_seed=0)\n",
    "agent_1 = Agent(state_size, action_size, random_seed=0)\n",
    "NO_NOISE = 300"
   ]
  },
  {
   "cell_type": "code",
   "execution_count": 7,
   "metadata": {
    "ExecuteTime": {
     "end_time": "2020-06-16T01:35:33.643546Z",
     "start_time": "2020-06-16T01:35:33.634482Z"
    }
   },
   "outputs": [],
   "source": [
    "def maddpg(n_episodes=2000, solve_score = 0.5):\n",
    "    scores_deque = deque(maxlen=100)\n",
    "    scores = []\n",
    "    moving_average = []\n",
    "    add_noise = True\n",
    "    best_score = 0\n",
    "    for i_episode in range(1, n_episodes+1):\n",
    "        if i_episode > NO_NOISE:\n",
    "            add_noise = False\n",
    "        \n",
    "        env_info = env.reset(train_mode=True)[brain_name]\n",
    "        ## Concatenate the states of the 2 agents\n",
    "        states = env_info.vector_observations\n",
    "        score_all_agents = np.zeros(num_agents)\n",
    "        agent_0.reset()\n",
    "        agent_1.reset()\n",
    "        \n",
    "        time_episode_start = time.time()\n",
    "        \n",
    "        while True:\n",
    "            \n",
    "            # Concatenate actions of the 2 agents\n",
    "            action_0 = agent_0.act(states[0], add_noise = add_noise)    # agent 0 chooses an action\n",
    "            action_1 = agent_1.act(states[1], add_noise = add_noise)    # agent 1 chooses an action\n",
    "            actions = np.concatenate((action_0, action_1), axis=0).flatten()\n",
    "            env_info = env.step(actions)[brain_name] \n",
    "            next_states = env_info.vector_observations\n",
    "            rewards = env_info.rewards                        \n",
    "            dones = env_info.local_done \n",
    "            ## Store Experience for each agent\n",
    "            agent_0.step(states[0], action_0, rewards[0], next_states[0], dones[0]) # agent 1 learns\n",
    "            agent_1.step(states[1], action_1, rewards[1], next_states[1], dones[1]) # agent 2 learns\n",
    "            \n",
    "            states = next_states\n",
    "            score_all_agents += rewards ## Scores get updated based on max\n",
    "            \n",
    "            if np.any(dones):                                  \n",
    "                break\n",
    "        \n",
    "        if np.max(score_all_agents) > best_score:\n",
    "            best_score = np.max(score_all_agents)\n",
    "        scores_deque.append(np.max(score_all_agents))\n",
    "        scores.append(np.max(score_all_agents))\n",
    "        moving_average.append(np.mean(scores_deque))\n",
    "        \n",
    "        if i_episode % 100 == 0:\n",
    "            print('Episode {:3d} \\tBest Score: {:5.2f} \\t' \\\n",
    "                  'Moving average: {:5.2f}' \\\n",
    "                  .format(i_episode, best_score,\n",
    "                          np.mean(scores_deque)))\n",
    "        \n",
    "#         print('\\rEpisode {}\\tAverage Score: {:.2f}\\tScore: {:.2f}'.format(i_episode, np.mean(scores_deque), scores[-1]), end=\"\")\n",
    "        if i_episode % 100 == 0:\n",
    "            torch.save(agent_0.actor_local.state_dict(), 'checkpoint_actor_0.pth')\n",
    "            torch.save(agent_0.critic_local.state_dict(), 'checkpoint_critic_0.pth')\n",
    "            torch.save(agent_1.actor_local.state_dict(), 'checkpoint_actor_1.pth')\n",
    "            torch.save(agent_1.critic_local.state_dict(), 'checkpoint_critic_1.pth')  \n",
    "            \n",
    "        if np.mean(scores_deque) >= solve_score:\n",
    "            print('\\nEnvironment solved in {:d} episodes!\\tAverage Score: {:.2f}'.format(i_episode,\n",
    "                                                                                         np.mean(scores_deque)))\n",
    "            torch.save(agent_0.actor_local.state_dict(), 'checkpoint_actor_0.pth')\n",
    "            torch.save(agent_0.critic_local.state_dict(), 'checkpoint_critic_0.pth')\n",
    "            torch.save(agent_1.actor_local.state_dict(), 'checkpoint_actor_1.pth')\n",
    "            torch.save(agent_1.critic_local.state_dict(), 'checkpoint_critic_1.pth')\n",
    "            break\n",
    "    return scores, moving_average\n",
    "\n"
   ]
  },
  {
   "cell_type": "code",
   "execution_count": 8,
   "metadata": {
    "ExecuteTime": {
     "end_time": "2020-06-16T01:58:41.290271Z",
     "start_time": "2020-06-16T01:35:33.644846Z"
    }
   },
   "outputs": [
    {
     "name": "stdout",
     "output_type": "stream",
     "text": [
      "Episode 100 \tBest Score:  0.00 \tMoving average:  0.00\n",
      "Episode 200 \tBest Score:  0.10 \tMoving average:  0.00\n",
      "Episode 300 \tBest Score:  0.10 \tMoving average:  0.00\n",
      "Episode 400 \tBest Score:  0.20 \tMoving average:  0.02\n",
      "Episode 500 \tBest Score:  0.20 \tMoving average:  0.05\n",
      "Episode 600 \tBest Score:  0.20 \tMoving average:  0.06\n",
      "Episode 700 \tBest Score:  0.30 \tMoving average:  0.09\n",
      "Episode 800 \tBest Score:  0.50 \tMoving average:  0.13\n",
      "Episode 900 \tBest Score:  0.50 \tMoving average:  0.13\n",
      "Episode 1000 \tBest Score:  0.50 \tMoving average:  0.15\n",
      "Episode 1100 \tBest Score:  1.00 \tMoving average:  0.20\n",
      "Episode 1200 \tBest Score:  1.40 \tMoving average:  0.27\n",
      "Episode 1300 \tBest Score:  2.20 \tMoving average:  0.48\n",
      "\n",
      "Environment solved in 1316 episodes!\tAverage Score: 0.51\n"
     ]
    }
   ],
   "source": [
    "train = True\n",
    "if train:\n",
    "    scores, moving_average = maddpg()"
   ]
  },
  {
   "cell_type": "code",
   "execution_count": 11,
   "metadata": {
    "ExecuteTime": {
     "end_time": "2020-06-16T15:52:36.311870Z",
     "start_time": "2020-06-16T15:52:36.137161Z"
    }
   },
   "outputs": [
    {
     "data": {
      "image/png": "[encoded data removed]",
      "text/plain": [
       "<Figure size 432x288 with 1 Axes>"
      ]
     },
     "metadata": {
      "needs_background": "light"
     },
     "output_type": "display_data"
    }
   ],
   "source": [
    "fig = plt.figure()\n",
    "ax = fig.add_subplot(111)\n",
    "plt.plot(np.arange(1, len(scores)+1), scores, label = 'Score')\n",
    "plt.plot(np.arange(1, len(scores)+1), moving_average, color = 'r', label = 'Moving Average')\n",
    "plt.ylabel('Score')\n",
    "plt.xlabel('Episode #')\n",
    "plt.legend(loc='upper left')\n",
    "plt.show()"
   ]
  },
  {
   "cell_type": "markdown",
   "metadata": {},
   "source": [
    "## Test this agent"
   ]
  },
  {
   "cell_type": "code",
   "execution_count": 3,
   "metadata": {
    "ExecuteTime": {
     "end_time": "2020-06-16T16:01:44.450549Z",
     "start_time": "2020-06-16T16:01:41.869756Z"
    }
   },
   "outputs": [
    {
     "name": "stderr",
     "output_type": "stream",
     "text": [
      "INFO:unityagents:\n",
      "'Academy' started successfully!\n",
      "Unity Academy name: Academy\n",
      "        Number of Brains: 1\n",
      "        Number of External Brains : 1\n",
      "        Lesson number : 0\n",
      "        Reset Parameters :\n",
      "\t\t\n",
      "Unity brain name: TennisBrain\n",
      "        Number of Visual Observations (per agent): 0\n",
      "        Vector Observation space type: continuous\n",
      "        Vector Observation space size (per agent): 8\n",
      "        Number of stacked Vector Observation: 3\n",
      "        Vector Action space type: continuous\n",
      "        Vector Action space size (per agent): 2\n",
      "        Vector Action descriptions: , \n"
     ]
    }
   ],
   "source": [
    "## Load Envtt with Visualization\n",
    "env = UnityEnvironment(file_name='Tennis_Linux/Tennis.x86_64')"
   ]
  },
  {
   "cell_type": "code",
   "execution_count": 4,
   "metadata": {
    "ExecuteTime": {
     "end_time": "2020-06-16T16:01:48.361396Z",
     "start_time": "2020-06-16T16:01:48.353563Z"
    }
   },
   "outputs": [],
   "source": [
    "# get the default brain\n",
    "brain_name = env.brain_names[0]\n",
    "brain = env.brains[brain_name]"
   ]
  },
  {
   "cell_type": "code",
   "execution_count": 5,
   "metadata": {
    "ExecuteTime": {
     "end_time": "2020-06-16T16:01:51.012278Z",
     "start_time": "2020-06-16T16:01:50.427598Z"
    }
   },
   "outputs": [
    {
     "name": "stdout",
     "output_type": "stream",
     "text": [
      "Number of agents: 2\n",
      "Size of each action: 2\n",
      "There are 2 agents. Each observes a state with length: 24\n",
      "The state for the first agent looks like: [ 0.          0.          0.          0.          0.          0.\n",
      "  0.          0.          0.          0.          0.          0.\n",
      "  0.          0.          0.          0.         -6.65278625 -1.5\n",
      " -0.          0.          6.83172083  6.         -0.          0.        ]\n"
     ]
    }
   ],
   "source": [
    "# reset the environment\n",
    "env_info = env.reset(train_mode=True)[brain_name]\n",
    "\n",
    "# number of agents \n",
    "num_agents = len(env_info.agents)\n",
    "print('Number of agents:', num_agents)\n",
    "\n",
    "# size of each action\n",
    "action_size = brain.vector_action_space_size\n",
    "print('Size of each action:', action_size)\n",
    "\n",
    "# examine the state space \n",
    "states = env_info.vector_observations\n",
    "state_size = states.shape[1]\n",
    "print('There are {} agents. Each observes a state with length: {}'.format(states.shape[0], state_size))\n",
    "print('The state for the first agent looks like:', states[0])"
   ]
  },
  {
   "cell_type": "code",
   "execution_count": 6,
   "metadata": {
    "ExecuteTime": {
     "end_time": "2020-06-16T16:01:57.319217Z",
     "start_time": "2020-06-16T16:01:55.668796Z"
    }
   },
   "outputs": [
    {
     "data": {
      "text/plain": [
       "<All keys matched successfully>"
      ]
     },
     "execution_count": 6,
     "metadata": {},
     "output_type": "execute_result"
    }
   ],
   "source": [
    "agent_0 = Agent(state_size, action_size, random_seed=0)\n",
    "agent_1 = Agent(state_size, action_size, random_seed=0)\n",
    "agent_0.actor_local.load_state_dict(torch.load('checkpoint_actor_0.pth'))\n",
    "agent_0.critic_local.load_state_dict(torch.load('checkpoint_critic_0.pth'))\n",
    "agent_1.actor_local.load_state_dict(torch.load('checkpoint_actor_1.pth'))\n",
    "agent_1.critic_local.load_state_dict(torch.load('checkpoint_critic_1.pth'))"
   ]
  },
  {
   "cell_type": "code",
   "execution_count": 10,
   "metadata": {
    "ExecuteTime": {
     "end_time": "2020-06-16T16:05:38.497492Z",
     "start_time": "2020-06-16T16:03:49.643866Z"
    }
   },
   "outputs": [
    {
     "name": "stdout",
     "output_type": "stream",
     "text": [
      "Scores are:  [0.10000000149011612, 0.800000011920929, 1.2000000178813934, 0.10000000149011612, 0.4000000059604645]\n"
     ]
    }
   ],
   "source": [
    "scores = []\n",
    "for i in range(1, 6):                                      # play game for 5 episodes\n",
    "    env_info = env.reset(train_mode=False)[brain_name]     # reset the environment    \n",
    "    states = env_info.vector_observations                  # get the current state (for each agent)\n",
    "    scores_all_agents = np.zeros(num_agents)                          # initialize the score (for each agent)\n",
    "    while True:\n",
    "        action_0 = agent_0.act(states[0], add_noise = False)    \n",
    "        action_1 = agent_1.act(states[1], add_noise = False)\n",
    "        actions = np.concatenate((action_0, action_1), axis=0).flatten()\n",
    "        env_info = env.step(actions)[brain_name]           \n",
    "        next_states = env_info.vector_observations         \n",
    "        rewards = env_info.rewards                         \n",
    "        dones = env_info.local_done                        \n",
    "        scores_all_agents += env_info.rewards                        \n",
    "        states = next_states                              \n",
    "        if np.any(dones):                                 \n",
    "            break\n",
    "    scores.append(np.max(scores_all_agents))\n",
    "print(\"Scores are: \", scores)"
   ]
  },
  {
   "cell_type": "code",
   "execution_count": 11,
   "metadata": {
    "ExecuteTime": {
     "end_time": "2020-06-16T16:05:46.623386Z",
     "start_time": "2020-06-16T16:05:46.619948Z"
    }
   },
   "outputs": [],
   "source": [
    "env.close()"
   ]
  },
  {
   "cell_type": "code",
   "execution_count": null,
   "metadata": {},
   "outputs": [],
   "source": []
  }
 ],
 "metadata": {
  "kernelspec": {
   "display_name": "Python [conda env:torch] *",
   "language": "python",
   "name": "conda-env-torch-py"
  },
  "language_info": {
   "codemirror_mode": {
    "name": "ipython",
    "version": 3
   },
   "file_extension": ".py",
   "mimetype": "text/x-python",
   "name": "python",
   "nbconvert_exporter": "python",
   "pygments_lexer": "ipython3",
   "version": "3.6.10"
  },
  "toc": {
   "base_numbering": 1,
   "nav_menu": {},
   "number_sections": true,
   "sideBar": true,
   "skip_h1_title": false,
   "title_cell": "Table of Contents",
   "title_sidebar": "Contents",
   "toc_cell": false,
   "toc_position": {},
   "toc_section_display": true,
   "toc_window_display": true
  }
 },
 "nbformat": 4,
 "nbformat_minor": 2
}
